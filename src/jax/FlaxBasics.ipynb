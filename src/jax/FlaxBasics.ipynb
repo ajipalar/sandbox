{
 "cells": [
  {
   "cell_type": "code",
   "execution_count": 17,
   "id": "f169f47f",
   "metadata": {},
   "outputs": [],
   "source": [
    "\"\"\"\n",
    "A basic example creating two MultiLayer Perceptrons\n",
    "\"\"\"\n",
    "from flax import linen as nn\n",
    "import optax\n",
    "import jax\n",
    "import jax.numpy as jnp\n",
    "\n",
    "class MLP(nn.Module):        # Create a Flax Module dataclass\n",
    "    out_dims : int\n",
    "    \n",
    "    @nn.compact\n",
    "    def __call__(self, x):\n",
    "        x = x.reshape((x.shape[0], -1))\n",
    "        x = nn.Dense(128)(x) # Create inline flax module submodules\n",
    "        x = nn.relu(x)\n",
    "        x = nn.Dense(self.out_dims)(x)   # shape inference\n",
    "        return x\n",
    "    \n",
    "model = MLP(out_dims=10)                 # instantiate the MLP model\n",
    "x = jnp.ones((4, 28, 28, 1))            # generate random data\n",
    "variables = model.init(jax.random.PRNGKey(42), x)    # initialize weights\n",
    "y = model.apply(variables, x)            # make a forward pass"
   ]
  },
  {
   "cell_type": "code",
   "execution_count": 20,
   "id": "b9c649a1",
   "metadata": {},
   "outputs": [
    {
     "name": "stdout",
     "output_type": "stream",
     "text": [
      "[[-0.05794942 -0.15916863 -0.9622741  -0.57689476 -0.21577388 -0.34986165\n",
      "   0.24366494  1.4783851  -0.4489202   0.03279138]\n",
      " [-0.05794942 -0.15916863 -0.9622741  -0.57689476 -0.21577388 -0.34986165\n",
      "   0.24366494  1.4783851  -0.4489202   0.03279138]\n",
      " [-0.05794942 -0.15916863 -0.9622741  -0.57689476 -0.21577388 -0.34986165\n",
      "   0.24366494  1.4783851  -0.4489202   0.03279138]\n",
      " [-0.05794942 -0.15916863 -0.9622741  -0.57689476 -0.21577388 -0.34986165\n",
      "   0.24366494  1.4783851  -0.4489202   0.03279138]]\n"
     ]
    }
   ],
   "source": [
    "print(y)"
   ]
  },
  {
   "cell_type": "code",
   "execution_count": 27,
   "id": "8a42b2ba",
   "metadata": {},
   "outputs": [],
   "source": [
    "class TwoMLP(nn.Module):\n",
    "    out_dims : int\n",
    "    \n",
    "    @nn.compact\n",
    "    def __call__(self, x):\n",
    "        x = x.reshape((x.shape[0], -1))\n",
    "        x = MLP(out_dims=20)(x)\n",
    "        x = MLP(out_dims=self.out_dims)(x)\n",
    "        return x"
   ]
  },
  {
   "cell_type": "code",
   "execution_count": 28,
   "id": "607323fd",
   "metadata": {},
   "outputs": [
    {
     "data": {
      "text/plain": [
       "Array([[-0.00130665, -0.19587332,  0.11442596, -0.10978554, -0.08749157,\n",
       "         0.07744953],\n",
       "       [-0.00130665, -0.19587332,  0.11442596, -0.10978554, -0.08749157,\n",
       "         0.07744953],\n",
       "       [-0.00130665, -0.19587332,  0.11442596, -0.10978554, -0.08749157,\n",
       "         0.07744953],\n",
       "       [-0.00130665, -0.19587332,  0.11442596, -0.10978554, -0.08749157,\n",
       "         0.07744953]], dtype=float32)"
      ]
     },
     "execution_count": 28,
     "metadata": {},
     "output_type": "execute_result"
    }
   ],
   "source": [
    "model = TwoMLP(out_dims=6)\n",
    "x = jnp.ones((4, 28, 28, 1))            # generate random data\n",
    "variables = model.init(jax.random.PRNGKey(42), x)    # initialize weights\n",
    "y = model.apply(variables, x)\n",
    "y"
   ]
  }
 ],
 "metadata": {
  "kernelspec": {
   "display_name": "Python 3 (ipykernel)",
   "language": "python",
   "name": "python3"
  },
  "language_info": {
   "codemirror_mode": {
    "name": "ipython",
    "version": 3
   },
   "file_extension": ".py",
   "mimetype": "text/x-python",
   "name": "python",
   "nbconvert_exporter": "python",
   "pygments_lexer": "ipython3",
   "version": "3.9.16"
  }
 },
 "nbformat": 4,
 "nbformat_minor": 5
}
