{
 "cells": [
  {
   "cell_type": "code",
   "execution_count": 1,
   "id": "03f89209",
   "metadata": {},
   "outputs": [],
   "source": [
    "\"\"\"\n",
    "Notebook based largely from the Alan Turing Institute Research Software Engineering with Python\n",
    "https://alan-turing-institute.github.io/rse-course/html/module03_research_data_in_python/03_05_advanced_numpy.html\n",
    "\"\"\"\n",
    "import numpy as np"
   ]
  },
  {
   "cell_type": "code",
   "execution_count": 2,
   "id": "e8debc49",
   "metadata": {},
   "outputs": [
    {
     "data": {
      "text/plain": [
       "array([ 0,  1,  4,  9, 16])"
      ]
     },
     "execution_count": 2,
     "metadata": {},
     "output_type": "execute_result"
    }
   ],
   "source": [
    "# elementwise array operations\n",
    "np.arange(5) * np.arange(5)"
   ]
  },
  {
   "cell_type": "code",
   "execution_count": 3,
   "id": "e30e42e1",
   "metadata": {},
   "outputs": [
    {
     "data": {
      "text/plain": [
       "array([[1., 1., 1.],\n",
       "       [1., 1., 1.],\n",
       "       [1., 1., 1.]])"
      ]
     },
     "execution_count": 3,
     "metadata": {},
     "output_type": "execute_result"
    }
   ],
   "source": [
    "# elementwise multiply - not matrix\n",
    "np.ones([3, 3]) * np.ones([3, 3])"
   ]
  },
  {
   "cell_type": "markdown",
   "id": "87465663",
   "metadata": {},
   "source": [
    "# Numpy Broadcasting\n",
    "If an array has dimension 1 the data is repeated to match the other."
   ]
  },
  {
   "cell_type": "code",
   "execution_count": 4,
   "id": "43a09b8d",
   "metadata": {},
   "outputs": [
    {
     "data": {
      "text/plain": [
       "array([[0],\n",
       "       [1],\n",
       "       [2],\n",
       "       [3],\n",
       "       [4],\n",
       "       [5],\n",
       "       [6],\n",
       "       [7],\n",
       "       [8],\n",
       "       [9]])"
      ]
     },
     "execution_count": 4,
     "metadata": {},
     "output_type": "execute_result"
    }
   ],
   "source": [
    "col = np.arange(10).reshape([10, 1])\n",
    "col"
   ]
  },
  {
   "cell_type": "code",
   "execution_count": 5,
   "id": "38fe4a39",
   "metadata": {},
   "outputs": [
    {
     "data": {
      "text/plain": [
       "array([[0, 1, 2, 3, 4, 5, 6, 7, 8, 9]])"
      ]
     },
     "execution_count": 5,
     "metadata": {},
     "output_type": "execute_result"
    }
   ],
   "source": [
    "row = col.T\n",
    "row"
   ]
  },
  {
   "cell_type": "code",
   "execution_count": 6,
   "id": "b9723421",
   "metadata": {},
   "outputs": [
    {
     "data": {
      "text/plain": [
       "(10, 1)"
      ]
     },
     "execution_count": 6,
     "metadata": {},
     "output_type": "execute_result"
    }
   ],
   "source": [
    "col.shape # \"Column vector\""
   ]
  },
  {
   "cell_type": "code",
   "execution_count": 7,
   "id": "ef2ec1f4",
   "metadata": {},
   "outputs": [
    {
     "data": {
      "text/plain": [
       "(1, 10)"
      ]
     },
     "execution_count": 7,
     "metadata": {},
     "output_type": "execute_result"
    }
   ],
   "source": [
    "row.shape # \"Row vector\""
   ]
  },
  {
   "cell_type": "code",
   "execution_count": 8,
   "id": "dbd893cf",
   "metadata": {},
   "outputs": [
    {
     "data": {
      "text/plain": [
       "array([[ 0,  1,  2,  3,  4,  5,  6,  7,  8,  9],\n",
       "       [ 1,  2,  3,  4,  5,  6,  7,  8,  9, 10],\n",
       "       [ 2,  3,  4,  5,  6,  7,  8,  9, 10, 11],\n",
       "       [ 3,  4,  5,  6,  7,  8,  9, 10, 11, 12],\n",
       "       [ 4,  5,  6,  7,  8,  9, 10, 11, 12, 13],\n",
       "       [ 5,  6,  7,  8,  9, 10, 11, 12, 13, 14],\n",
       "       [ 6,  7,  8,  9, 10, 11, 12, 13, 14, 15],\n",
       "       [ 7,  8,  9, 10, 11, 12, 13, 14, 15, 16],\n",
       "       [ 8,  9, 10, 11, 12, 13, 14, 15, 16, 17],\n",
       "       [ 9, 10, 11, 12, 13, 14, 15, 16, 17, 18]])"
      ]
     },
     "execution_count": 8,
     "metadata": {},
     "output_type": "execute_result"
    }
   ],
   "source": [
    "# If one vector has dimension 1 then data is repeated to match\n",
    "assert np.alltrue((row + col) == (col + row))\n",
    "row + col"
   ]
  },
  {
   "cell_type": "code",
   "execution_count": 9,
   "id": "057fa658",
   "metadata": {},
   "outputs": [
    {
     "data": {
      "text/plain": [
       "array([[1, 2]])"
      ]
     },
     "execution_count": 9,
     "metadata": {},
     "output_type": "execute_result"
    }
   ],
   "source": [
    "# More than one unit dimension\n",
    "x = np.array([1, 2]).reshape(1, 2)\n",
    "x"
   ]
  },
  {
   "cell_type": "code",
   "execution_count": 10,
   "id": "5191dd89",
   "metadata": {},
   "outputs": [
    {
     "data": {
      "text/plain": [
       "array([[3],\n",
       "       [4],\n",
       "       [5]])"
      ]
     },
     "execution_count": 10,
     "metadata": {},
     "output_type": "execute_result"
    }
   ],
   "source": [
    "y = np.array([3, 4, 5]).reshape(3, 1)\n",
    "y"
   ]
  },
  {
   "cell_type": "code",
   "execution_count": 11,
   "id": "d6429ca7",
   "metadata": {},
   "outputs": [
    {
     "name": "stdout",
     "output_type": "stream",
     "text": [
      "(3, 2)\n"
     ]
    },
    {
     "data": {
      "text/plain": [
       "array([[4, 5],\n",
       "       [5, 6],\n",
       "       [6, 7]])"
      ]
     },
     "execution_count": 11,
     "metadata": {},
     "output_type": "execute_result"
    }
   ],
   "source": [
    "# Both axes are expanded before the addition\n",
    "result = x + y\n",
    "print(result.shape)\n",
    "result\n"
   ]
  },
  {
   "cell_type": "code",
   "execution_count": 12,
   "id": "df0d731f",
   "metadata": {},
   "outputs": [],
   "source": [
    "# np.newaxis allows indexing to create new one-long dimensions on the fly\n",
    "x = np.arange(10).reshape(2, 5)\n",
    "y = np.arange(8).reshape(2, 2, 2)"
   ]
  },
  {
   "cell_type": "code",
   "execution_count": 13,
   "id": "16f25881",
   "metadata": {},
   "outputs": [
    {
     "data": {
      "text/plain": [
       "array([[0, 1, 2, 3, 4],\n",
       "       [5, 6, 7, 8, 9]])"
      ]
     },
     "execution_count": 13,
     "metadata": {},
     "output_type": "execute_result"
    }
   ],
   "source": [
    "x"
   ]
  },
  {
   "cell_type": "code",
   "execution_count": 14,
   "id": "fd582cf0",
   "metadata": {},
   "outputs": [
    {
     "data": {
      "text/plain": [
       "array([[[0, 1],\n",
       "        [2, 3]],\n",
       "\n",
       "       [[4, 5],\n",
       "        [6, 7]]])"
      ]
     },
     "execution_count": 14,
     "metadata": {},
     "output_type": "execute_result"
    }
   ],
   "source": [
    "y"
   ]
  },
  {
   "cell_type": "code",
   "execution_count": 15,
   "id": "15c44e92",
   "metadata": {},
   "outputs": [
    {
     "name": "stdout",
     "output_type": "stream",
     "text": [
      "x.shape (2, 5)\n",
      "x_dash.shape (2, 5, 1, 1)\n"
     ]
    }
   ],
   "source": [
    "x_dash = x[:, :, np.newaxis, np.newaxis]\n",
    "print(f\"x.shape {x.shape}\")\n",
    "print(f\"x_dash.shape {x_dash.shape}\")"
   ]
  },
  {
   "cell_type": "code",
   "execution_count": 16,
   "id": "eeec6861",
   "metadata": {},
   "outputs": [
    {
     "name": "stdout",
     "output_type": "stream",
     "text": [
      "x2.shape (2, 1, 5, 1, 1)\n"
     ]
    }
   ],
   "source": [
    "x2 = x[:, np.newaxis, :, np.newaxis, np.newaxis]\n",
    "print(f\"x2.shape {x2.shape}\")"
   ]
  },
  {
   "cell_type": "code",
   "execution_count": 17,
   "id": "b3f748b6",
   "metadata": {},
   "outputs": [
    {
     "name": "stdout",
     "output_type": "stream",
     "text": [
      "y_dash.shape [[[[0 1]\n",
      "   [2 3]]]\n",
      "\n",
      "\n",
      " [[[4 5]\n",
      "   [6 7]]]]\n"
     ]
    }
   ],
   "source": [
    "y_dash = y[:, np.newaxis, :, :]\n",
    "print(f\"y_dash.shape {y_dash}\")"
   ]
  },
  {
   "cell_type": "code",
   "execution_count": 18,
   "id": "2ff1fc28",
   "metadata": {},
   "outputs": [
    {
     "name": "stdout",
     "output_type": "stream",
     "text": [
      "res.shape (2, 5, 2, 2)\n"
     ]
    }
   ],
   "source": [
    "res = x_dash * y_dash\n",
    "print(f\"res.shape {res.shape}\")"
   ]
  },
  {
   "cell_type": "code",
   "execution_count": 19,
   "id": "e233a762",
   "metadata": {},
   "outputs": [
    {
     "data": {
      "text/plain": [
       "830"
      ]
     },
     "execution_count": 19,
     "metadata": {},
     "output_type": "execute_result"
    }
   ],
   "source": [
    "np.sum(res)"
   ]
  },
  {
   "cell_type": "code",
   "execution_count": 20,
   "id": "391a31ce",
   "metadata": {},
   "outputs": [
    {
     "data": {
      "text/plain": [
       "array([[0, 1, 2],\n",
       "       [3, 4, 5],\n",
       "       [6, 7, 8]])"
      ]
     },
     "execution_count": 20,
     "metadata": {},
     "output_type": "execute_result"
    }
   ],
   "source": [
    "threebythree = np.arange(9).reshape(3, 3)\n",
    "threebythree"
   ]
  },
  {
   "cell_type": "code",
   "execution_count": 21,
   "id": "dbe8e6d6",
   "metadata": {},
   "outputs": [
    {
     "data": {
      "text/plain": [
       "array([[[0, 1, 2]],\n",
       "\n",
       "       [[3, 4, 5]],\n",
       "\n",
       "       [[6, 7, 8]]])"
      ]
     },
     "execution_count": 21,
     "metadata": {},
     "output_type": "execute_result"
    }
   ],
   "source": [
    "threebythree[:, np.newaxis, :]"
   ]
  },
  {
   "cell_type": "markdown",
   "id": "dc497895",
   "metadata": {},
   "source": [
    "# Dot products"
   ]
  },
  {
   "cell_type": "code",
   "execution_count": 22,
   "id": "c115d2aa",
   "metadata": {},
   "outputs": [
    {
     "data": {
      "text/plain": [
       "array([[0, 1, 2],\n",
       "       [3, 4, 5],\n",
       "       [6, 7, 8]])"
      ]
     },
     "execution_count": 22,
     "metadata": {},
     "output_type": "execute_result"
    }
   ],
   "source": [
    "a = np.arange(9).reshape(3, 3)\n",
    "a"
   ]
  },
  {
   "cell_type": "code",
   "execution_count": 23,
   "id": "7cb93516",
   "metadata": {},
   "outputs": [
    {
     "data": {
      "text/plain": [
       "array([[ 3,  4,  5],\n",
       "       [ 6,  7,  8],\n",
       "       [ 9, 10, 11]])"
      ]
     },
     "execution_count": 23,
     "metadata": {},
     "output_type": "execute_result"
    }
   ],
   "source": [
    "b = np.arange(3, 12).reshape(3, 3)\n",
    "b"
   ]
  },
  {
   "cell_type": "code",
   "execution_count": 24,
   "id": "6b9c3319",
   "metadata": {},
   "outputs": [
    {
     "data": {
      "text/plain": [
       "array([[ 0,  4, 10],\n",
       "       [18, 28, 40],\n",
       "       [54, 70, 88]])"
      ]
     },
     "execution_count": 24,
     "metadata": {},
     "output_type": "execute_result"
    }
   ],
   "source": [
    "# elementwise\n",
    "a * b"
   ]
  },
  {
   "cell_type": "code",
   "execution_count": 25,
   "id": "6e73c985",
   "metadata": {},
   "outputs": [
    {
     "data": {
      "text/plain": [
       "array([[ 24,  27,  30],\n",
       "       [ 78,  90, 102],\n",
       "       [132, 153, 174]])"
      ]
     },
     "execution_count": 25,
     "metadata": {},
     "output_type": "execute_result"
    }
   ],
   "source": [
    "# dot product using broadcasting\n",
    "(a[:, :, np.newaxis] * b[np.newaxis, : , :]).sum(1)"
   ]
  },
  {
   "cell_type": "code",
   "execution_count": 26,
   "id": "ecc4ffdc",
   "metadata": {},
   "outputs": [
    {
     "data": {
      "text/plain": [
       "array([[ 24,  27,  30],\n",
       "       [ 78,  90, 102],\n",
       "       [132, 153, 174]])"
      ]
     },
     "execution_count": 26,
     "metadata": {},
     "output_type": "execute_result"
    }
   ],
   "source": [
    "a @ b # python 3.5 or later"
   ]
  },
  {
   "cell_type": "code",
   "execution_count": 27,
   "id": "93e8e9c0",
   "metadata": {},
   "outputs": [
    {
     "data": {
      "text/plain": [
       "array([[ 24,  27,  30],\n",
       "       [ 78,  90, 102],\n",
       "       [132, 153, 174]])"
      ]
     },
     "execution_count": 27,
     "metadata": {},
     "output_type": "execute_result"
    }
   ],
   "source": [
    "np.dot(a, b)"
   ]
  },
  {
   "cell_type": "code",
   "execution_count": 28,
   "id": "b82dd4c2",
   "metadata": {},
   "outputs": [],
   "source": [
    "# Record Arrays\n",
    "x = np.arange(50).reshape([10, 5])\n",
    "record_x = x.view(\n",
    "    dtype={\"names\": [\"col1\", \"col2\", \"another\", \"more\", \"last\"],\n",
    "           \"formats\": [int] * 5}\n",
    ")"
   ]
  },
  {
   "cell_type": "code",
   "execution_count": 29,
   "id": "b2041a23",
   "metadata": {},
   "outputs": [
    {
     "data": {
      "text/plain": [
       "array([[( 0,  1,  2,  3,  4)],\n",
       "       [( 5,  6,  7,  8,  9)],\n",
       "       [(10, 11, 12, 13, 14)],\n",
       "       [(15, 16, 17, 18, 19)],\n",
       "       [(20, 21, 22, 23, 24)],\n",
       "       [(25, 26, 27, 28, 29)],\n",
       "       [(30, 31, 32, 33, 34)],\n",
       "       [(35, 36, 37, 38, 39)],\n",
       "       [(40, 41, 42, 43, 44)],\n",
       "       [(45, 46, 47, 48, 49)]],\n",
       "      dtype=[('col1', '<i8'), ('col2', '<i8'), ('another', '<i8'), ('more', '<i8'), ('last', '<i8')])"
      ]
     },
     "execution_count": 29,
     "metadata": {},
     "output_type": "execute_result"
    }
   ],
   "source": [
    "record_x"
   ]
  },
  {
   "cell_type": "code",
   "execution_count": 30,
   "id": "7fa77f1a",
   "metadata": {},
   "outputs": [
    {
     "data": {
      "text/plain": [
       "array([[ 0],\n",
       "       [ 5],\n",
       "       [10],\n",
       "       [15],\n",
       "       [20],\n",
       "       [25],\n",
       "       [30],\n",
       "       [35],\n",
       "       [40],\n",
       "       [45]])"
      ]
     },
     "execution_count": 30,
     "metadata": {},
     "output_type": "execute_result"
    }
   ],
   "source": [
    "record_x[\"col1\"]"
   ]
  },
  {
   "cell_type": "code",
   "execution_count": 31,
   "id": "60baf1bc",
   "metadata": {},
   "outputs": [
    {
     "data": {
      "text/plain": [
       "array([[0., 0., 0., 0.],\n",
       "       [0., 0., 0., 0.],\n",
       "       [0., 0., 0., 0.]])"
      ]
     },
     "execution_count": 31,
     "metadata": {},
     "output_type": "execute_result"
    }
   ],
   "source": [
    "# Logical arrays, masking, and selection\n",
    "\n",
    "x = np.zeros([3, 4])\n",
    "x"
   ]
  },
  {
   "cell_type": "code",
   "execution_count": 32,
   "id": "a03d597f",
   "metadata": {},
   "outputs": [
    {
     "data": {
      "text/plain": [
       "array([[ 2,  1,  0, -1],\n",
       "       [ 0,  0,  0,  0],\n",
       "       [-2, -1,  0,  1]])"
      ]
     },
     "execution_count": 32,
     "metadata": {},
     "output_type": "execute_result"
    }
   ],
   "source": [
    "y = np.arange(-1, 2)[:, np.newaxis] * np.arange(-2, 2)[np.newaxis, :]\n",
    "y"
   ]
  },
  {
   "cell_type": "code",
   "execution_count": 33,
   "id": "3d0146e1",
   "metadata": {},
   "outputs": [
    {
     "data": {
      "text/plain": [
       "array([[False,  True, False, False],\n",
       "       [False, False, False, False],\n",
       "       [False, False, False,  True]])"
      ]
     },
     "execution_count": 33,
     "metadata": {},
     "output_type": "execute_result"
    }
   ],
   "source": [
    "y_is_one = y == 1\n",
    "y_is_one"
   ]
  },
  {
   "cell_type": "code",
   "execution_count": 34,
   "id": "db0dc618",
   "metadata": {},
   "outputs": [
    {
     "data": {
      "text/plain": [
       "array([[False, False,  True, False],\n",
       "       [ True,  True,  True,  True],\n",
       "       [False, False,  True, False]])"
      ]
     },
     "execution_count": 34,
     "metadata": {},
     "output_type": "execute_result"
    }
   ],
   "source": [
    "aresame = x == y\n",
    "aresame"
   ]
  },
  {
   "cell_type": "code",
   "execution_count": 35,
   "id": "b3412a76",
   "metadata": {},
   "outputs": [
    {
     "data": {
      "text/plain": [
       "array([ 2,  1, -1, -2, -1,  1])"
      ]
     },
     "execution_count": 35,
     "metadata": {},
     "output_type": "execute_result"
    }
   ],
   "source": [
    "y[np.logical_not(aresame)]"
   ]
  },
  {
   "cell_type": "code",
   "execution_count": 36,
   "id": "175b2649",
   "metadata": {},
   "outputs": [],
   "source": [
    "y[aresame] = 5"
   ]
  },
  {
   "cell_type": "code",
   "execution_count": 37,
   "id": "648e7dac",
   "metadata": {},
   "outputs": [
    {
     "data": {
      "text/plain": [
       "array([[ 2,  1,  5, -1],\n",
       "       [ 5,  5,  5,  5],\n",
       "       [-2, -1,  5,  1]])"
      ]
     },
     "execution_count": 37,
     "metadata": {},
     "output_type": "execute_result"
    }
   ],
   "source": [
    "y"
   ]
  },
  {
   "cell_type": "code",
   "execution_count": 38,
   "id": "9f725510",
   "metadata": {},
   "outputs": [],
   "source": [
    "# Numpy memory"
   ]
  },
  {
   "cell_type": "code",
   "execution_count": 39,
   "id": "b6a37ead",
   "metadata": {},
   "outputs": [],
   "source": [
    "x = list(range(5))\n",
    "y = x[:]"
   ]
  },
  {
   "cell_type": "code",
   "execution_count": 40,
   "id": "390756a2",
   "metadata": {},
   "outputs": [
    {
     "data": {
      "text/plain": [
       "[0, 1, 2, 3, 4]"
      ]
     },
     "execution_count": 40,
     "metadata": {},
     "output_type": "execute_result"
    }
   ],
   "source": [
    "y[2] = 0\n",
    "x"
   ]
  },
  {
   "cell_type": "code",
   "execution_count": 41,
   "id": "7911af59",
   "metadata": {},
   "outputs": [
    {
     "data": {
      "text/plain": [
       "array([0, 1, 0, 3, 4])"
      ]
     },
     "execution_count": 41,
     "metadata": {},
     "output_type": "execute_result"
    }
   ],
   "source": [
    "# In numpy changing a copy changes the original array (reference)\n",
    "x = np.arange(5)\n",
    "y = x[:]\n",
    "y[2] = 0\n",
    "x"
   ]
  }
 ],
 "metadata": {
  "kernelspec": {
   "display_name": "Python 3 (ipykernel)",
   "language": "python",
   "name": "python3"
  },
  "language_info": {
   "codemirror_mode": {
    "name": "ipython",
    "version": 3
   },
   "file_extension": ".py",
   "mimetype": "text/x-python",
   "name": "python",
   "nbconvert_exporter": "python",
   "pygments_lexer": "ipython3",
   "version": "3.9.16"
  }
 },
 "nbformat": 4,
 "nbformat_minor": 5
}
